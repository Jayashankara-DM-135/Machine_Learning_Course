{
 "cells": [
  {
   "cell_type": "code",
   "execution_count": 12,
   "metadata": {},
   "outputs": [
    {
     "name": "stdout",
     "output_type": "stream",
     "text": [
      "[1 2 3]\n"
     ]
    }
   ],
   "source": [
    "import numpy as np\n",
    "\n",
    "#Single dimentational array\n",
    "arr = np.array([1, 2, 3])\n",
    "print(arr)"
   ]
  },
  {
   "cell_type": "code",
   "execution_count": 14,
   "metadata": {},
   "outputs": [
    {
     "name": "stdout",
     "output_type": "stream",
     "text": [
      "[[2.3 1.  4.4]\n",
      " [2.2 8.9 9. ]]\n"
     ]
    }
   ],
   "source": [
    "#Two-dimentatinal array\n",
    "sec = np.array([[2.3, 1.0, 4.4], [2.2, 8.9, 9.0]])\n",
    "print(sec)"
   ]
  },
  {
   "cell_type": "code",
   "execution_count": 15,
   "metadata": {},
   "outputs": [
    {
     "name": "stdout",
     "output_type": "stream",
     "text": [
      "1\n",
      "2\n"
     ]
    }
   ],
   "source": [
    "#Get the dimention of the array\n",
    "print(arr.ndim)\n",
    "print(sec.ndim)"
   ]
  },
  {
   "cell_type": "code",
   "execution_count": 16,
   "metadata": {},
   "outputs": [
    {
     "name": "stdout",
     "output_type": "stream",
     "text": [
      "(2, 3)\n"
     ]
    }
   ],
   "source": [
    "#Print array shap of array, liken n*m \n",
    "print(sec.shape)"
   ]
  },
  {
   "cell_type": "code",
   "execution_count": 28,
   "metadata": {},
   "outputs": [
    {
     "name": "stdout",
     "output_type": "stream",
     "text": [
      "[[[ 1  2]\n",
      "  [ 3  4]\n",
      "  [ 5  6]]\n",
      "\n",
      " [[ 7  8]\n",
      "  [ 9 10]\n",
      "  [11 12]]]\n",
      "3\n",
      "(2, 3, 2)\n",
      "===============\n",
      "[[['a' 'b']\n",
      "  ['c' 'd']\n",
      "  ['e' 'f']]\n",
      "\n",
      " [['g' 'h']\n",
      "  ['i' 'j']\n",
      "  ['k' 'l']]]\n",
      "3\n",
      "(2, 3, 2)\n",
      "[[[ 11  22  33]\n",
      "  [ 44  55  66]]\n",
      "\n",
      " [[ 77  88  99]\n",
      "  [111 222 333]]]\n"
     ]
    }
   ],
   "source": [
    "#3-dimention array\n",
    "c = np.array([  [[1, 2], [3, 4], [5,6]], [[7, 8], [9, 10], [11, 12]] ])\n",
    "d = np.array([ [['a', 'b'], ['c', 'd'], ['e', 'f']], [['g', 'h'], ['i', 'j'], ['k', 'l']]  ])\n",
    "e = np.array([ [ [11, 22, 33], [44, 55, 66] ], [[77, 88, 99], [111, 222, 333]] ])\n",
    "\n",
    "print(c)\n",
    "print(c.ndim)\n",
    "print(c.shape)\n",
    "\n",
    "\n",
    "print('===============')\n",
    "print(d)\n",
    "print(d.ndim)\n",
    "print(d.shape)\n",
    "\n",
    "\n",
    "print(e)"
   ]
  },
  {
   "cell_type": "code",
   "execution_count": 33,
   "metadata": {},
   "outputs": [
    {
     "name": "stdout",
     "output_type": "stream",
     "text": [
      "int32\n",
      "<U1\n",
      "int32\n"
     ]
    }
   ],
   "source": [
    "#Get array datatype\n",
    "print(c.dtype)\n",
    "print(d.dtype)\n",
    "print(e.dtype)"
   ]
  },
  {
   "cell_type": "code",
   "execution_count": 37,
   "metadata": {},
   "outputs": [
    {
     "name": "stdout",
     "output_type": "stream",
     "text": [
      "int32\n"
     ]
    }
   ],
   "source": [
    "#We can also specify the dtype for array\n",
    "\n",
    "k = np.array([1, 2, 3], dtype='int32')\n",
    "print(k.dtype)\n"
   ]
  },
  {
   "cell_type": "code",
   "execution_count": 50,
   "metadata": {},
   "outputs": [
    {
     "name": "stdout",
     "output_type": "stream",
     "text": [
      "3\n",
      "12\n"
     ]
    }
   ],
   "source": [
    "#Get Number of elements in array\n",
    "print(k.size)\n",
    "print(d.size)"
   ]
  },
  {
   "cell_type": "code",
   "execution_count": 49,
   "metadata": {},
   "outputs": [
    {
     "name": "stdout",
     "output_type": "stream",
     "text": [
      "4\n",
      "8\n",
      "4\n"
     ]
    }
   ],
   "source": [
    "#Get size of each elememnt\n",
    "print(k.itemsize)\n",
    "print(sec.itemsize)\n",
    "print(d.itemsize)"
   ]
  },
  {
   "cell_type": "code",
   "execution_count": 48,
   "metadata": {},
   "outputs": [
    {
     "name": "stdout",
     "output_type": "stream",
     "text": [
      "12\n",
      "48\n",
      "48\n"
     ]
    }
   ],
   "source": [
    "#Get total size of array\n",
    "print(k.nbytes)\n",
    "print(sec.nbytes)\n",
    "print(d.nbytes)"
   ]
  },
  {
   "cell_type": "markdown",
   "metadata": {},
   "source": [
    "###### Accessing array elements"
   ]
  },
  {
   "cell_type": "code",
   "execution_count": 63,
   "metadata": {},
   "outputs": [
    {
     "name": "stdout",
     "output_type": "stream",
     "text": [
      "[[ 1  2  3  4  5  6]\n",
      " [ 7  8  9 19 11 12]]\n",
      "2\n",
      "(2, 6)\n",
      "12\n",
      "int32\n",
      "4\n",
      "48\n",
      "========\n",
      "8\n",
      "5\n",
      "12\n",
      "12\n",
      "---------------\n",
      "8\n",
      "5\n",
      "12\n",
      "12\n"
     ]
    }
   ],
   "source": [
    "a = np.array([[1, 2, 3, 4, 5, 6], [7, 8, 9, 19, 11, 12]], dtype='int32')\n",
    "print(a)\n",
    "print(a.ndim)\n",
    "print(a.shape)\n",
    "print(a.size)\n",
    "print(a.dtype)\n",
    "print(a.itemsize)\n",
    "print(a.nbytes)\n",
    "print(\"========\")\n",
    "\n",
    "#accessing\n",
    "print(a[1][1])\n",
    "print(a[0][4])\n",
    "print(a[1][-1])\n",
    "print(a[-1][-1])\n",
    "\n",
    "#We can also access as below , Which is more prefered.\n",
    "print('---------------')\n",
    "print(a[1, 1])\n",
    "print(a[0, 4])\n",
    "print(a[1, -1])\n",
    "print(a[-1, -1])\n",
    "\n",
    "\n"
   ]
  },
  {
   "cell_type": "code",
   "execution_count": 68,
   "metadata": {},
   "outputs": [
    {
     "name": "stdout",
     "output_type": "stream",
     "text": [
      "[1 2 3 4 5 6]\n",
      "[ 7  8  9 19 11 12]\n",
      "=============\n",
      "[1 2 3 4 5 6]\n",
      "[ 7  8  9 19 11 12]\n"
     ]
    }
   ],
   "source": [
    "#Get row wise\n",
    "\n",
    "print(a[0])\n",
    "print(a[-1])\n",
    "\n",
    "#We can also get as bellow\n",
    "print('=============')\n",
    "print(a[0, :])\n",
    "print(a[1, :])"
   ]
  },
  {
   "cell_type": "code",
   "execution_count": 72,
   "metadata": {},
   "outputs": [
    {
     "name": "stdout",
     "output_type": "stream",
     "text": [
      "[[ 1  2  3  4  5  6]\n",
      " [ 7  8  9 19 11 12]]\n",
      "[1 7]\n",
      "[ 5 11]\n"
     ]
    }
   ],
   "source": [
    "#Get colum wise\n",
    "#print(a[][0]) Not possible\n",
    "print(a)\n",
    "print(a[:, 0])\n",
    "print(a[:, 4])"
   ]
  },
  {
   "cell_type": "code",
   "execution_count": 75,
   "metadata": {},
   "outputs": [
    {
     "name": "stdout",
     "output_type": "stream",
     "text": [
      "[[ 1  2  3  4  5  6]\n",
      " [ 7  8  9 19 11 12]]\n",
      "[2 3 4 5]\n"
     ]
    }
   ],
   "source": [
    "#access randomly\n",
    "print(a)\n",
    "#In below array extract ele from 2 to 5\n",
    "# array[row, startidx:endidx:step]\n",
    "\n",
    "print(a[0, 1:5:1])\n"
   ]
  },
  {
   "cell_type": "code",
   "execution_count": 81,
   "metadata": {},
   "outputs": [
    {
     "name": "stdout",
     "output_type": "stream",
     "text": [
      "[[ 44  88 111  44  44  44]\n",
      " [  7  88 222  19  11  12]]\n",
      "[[ 44  44  44  44  44  44]\n",
      " [  7  88 222  19  11  12]]\n",
      "[[ 44  88  44  44  44  44]\n",
      " [  7  88 222  19  11  12]]\n",
      "[[ 44  88 111  44  44  44]\n",
      " [  7  88 222  19  11  12]]\n"
     ]
    }
   ],
   "source": [
    "#Change the 4 to 44\n",
    "a[0, 3] = 44\n",
    "print(a)\n",
    "\n",
    "#Now change entier first row into 44\n",
    "a[0, :] = 44\n",
    "print(a)\n",
    "\n",
    "#Now change second coulm to 88\n",
    "a[:, 1] = 88\n",
    "print(a)\n",
    "\n",
    "#Now change thrid colum into 111 and 222\n",
    "a[:, 2] = [111, 222]\n",
    "print(a)"
   ]
  },
  {
   "cell_type": "code",
   "execution_count": 97,
   "metadata": {},
   "outputs": [
    {
     "name": "stdout",
     "output_type": "stream",
     "text": [
      "[[[1 2]\n",
      "  [3 4]]\n",
      "\n",
      " [[5 6]\n",
      "  [7 8]]]\n",
      "3\n",
      "8\n",
      "4\n",
      "int32\n",
      "32\n",
      "=======\n",
      "[[5 6]\n",
      " [7 8]]\n",
      "[[5 6]\n",
      " [7 8]]\n",
      "[5 6]\n",
      "[2 4]\n",
      "[[[ 1  2]\n",
      "  [ 3  4]]\n",
      "\n",
      " [[11 11]\n",
      "  [22 22]]]\n"
     ]
    }
   ],
   "source": [
    "#Accessing three-dimenstonal array\n",
    "b = np.array([ [ [1,2], [3, 4] ], [[5, 6], [7, 8]]])\n",
    "print(b)\n",
    "print(b.ndim)\n",
    "print(b.size)\n",
    "print(b.itemsize)\n",
    "print(b.dtype)\n",
    "print(b.nbytes)\n",
    "print('=======')\n",
    "\n",
    "#access value 4 in below array\n",
    "b[0, 1, 1]\n",
    "\n",
    "#Access value 6\n",
    "b[1, 0, 1]\n",
    "\n",
    "#Print second two-dimenstional array\n",
    "print(b[1, :, :])\n",
    "#or we can use like this as well\n",
    "print(b[1])\n",
    "\n",
    "#Print second two-d array first row\n",
    "print(b[1, 0, :])\n",
    "\n",
    "#print 2 and 4\n",
    "print(b[0, :, 1])\n",
    "\n",
    "\n",
    "#Replecae second two -d array\n",
    "b[1,:, :] = [[11, 11], [22, 22]]\n",
    "print(b)\n",
    "\n",
    "\n"
   ]
  },
  {
   "cell_type": "markdown",
   "metadata": {},
   "source": [
    "###### Initialize the array"
   ]
  },
  {
   "cell_type": "code",
   "execution_count": 129,
   "metadata": {},
   "outputs": [
    {
     "name": "stdout",
     "output_type": "stream",
     "text": [
      "[[0. 0.]\n",
      " [0. 0.]]\n",
      "[[[0. 0. 0.]\n",
      "  [0. 0. 0.]\n",
      "  [0. 0. 0.]]]\n",
      "[0.]\n",
      "[[[1 1 1 1]\n",
      "  [1 1 1 1]\n",
      "  [1 1 1 1]]\n",
      "\n",
      " [[1 1 1 1]\n",
      "  [1 1 1 1]\n",
      "  [1 1 1 1]]]\n",
      "[[99 99 99]\n",
      " [99 99 99]]\n",
      "[[-1 -1 -1]\n",
      " [-1 -1 -1]]\n",
      "[[0.68456234 0.80133347 0.67934366]\n",
      " [0.51806356 0.19003862 0.64266256]]\n",
      "[[0.3288931  0.34408147 0.86332055]\n",
      " [0.17396191 0.43284998 0.92305576]]\n",
      "[[8 8 7]\n",
      " [7 7 8]\n",
      " [8 7 7]]\n",
      "[[2 0 0]\n",
      " [3 3 1]\n",
      " [0 1 6]]\n"
     ]
    }
   ],
   "source": [
    "#Create two-dimentonal array with zero initalized \n",
    "#Pass the shap of two-dimentonal array\n",
    "c = np.zeros((2,2))\n",
    "print(c)\n",
    "\n",
    "d = np.zeros((1,3,3))\n",
    "print(d)\n",
    "\n",
    "e = np.zeros((1))\n",
    "print(e)\n",
    "\n",
    "#Initalize 2*3*4 array with 'one' and dtype is int32\n",
    "f = np.ones((2, 3, 4), dtype='int32')\n",
    "print(f)\n",
    "\n",
    "#initalize arry with other than zero and one using 'full' method\n",
    "#Initialize array with 99\n",
    "g = np.full((2,3), 99, dtype='int16')\n",
    "print(g)\n",
    "\n",
    "\n",
    "#full_like simillor to full, but it use the existing array to create new one\n",
    "#Below example create h array which is simllor to array g shape, but all the elements in h is intiaized to -1\n",
    "h = np.full_like(g, -1)\n",
    "print(h)\n",
    "\n",
    "#Now intilize 2*3 matrics with random number\n",
    "\n",
    "i = np.random.rand(2, 3)\n",
    "print(i)\n",
    "\n",
    "#create array simillor to i shape , but initalized with random number which are different from i array elements.\n",
    "j = np.random.random_sample(i.shape)\n",
    "\n",
    "print(j)\n",
    "\n",
    "#Initialize random integer value range from 7 to 8 (9-1)for 3*3 array\n",
    "# if high here 9 is not specified then low value 7 itself is consider to be highest value.\n",
    "k = np.random.randint(7, 9, size=(3,3))\n",
    "print(k)\n",
    "\n",
    "#Here value goes at max 9, since high is not specified.\n",
    "l = np.random.randint(low=9, size=(3,3))\n",
    "print(l)"
   ]
  },
  {
   "cell_type": "markdown",
   "metadata": {},
   "source": [
    "###### Create a identtity matrix.\n"
   ]
  },
  {
   "cell_type": "code",
   "execution_count": 132,
   "metadata": {},
   "outputs": [
    {
     "name": "stdout",
     "output_type": "stream",
     "text": [
      "[[1. 0. 0. 0. 0.]\n",
      " [0. 1. 0. 0. 0.]\n",
      " [0. 0. 1. 0. 0.]\n",
      " [0. 0. 0. 1. 0.]\n",
      " [0. 0. 0. 0. 1.]]\n"
     ]
    }
   ],
   "source": [
    "#Identity matrix is squre matrix.\n",
    "a = np.identity(5)\n",
    "print(a)"
   ]
  },
  {
   "cell_type": "code",
   "execution_count": 149,
   "metadata": {},
   "outputs": [
    {
     "name": "stdout",
     "output_type": "stream",
     "text": [
      "[1 1 1 2 2 2 3 3 3]\n",
      "[1 1 1 2 2 2 3 3 3 4 4 4 5 5 5 6 6 6]\n",
      "[1 1 1 2 2 2 3 3 3]\n",
      "[[1 2 3]\n",
      " [1 2 3]\n",
      " [1 2 3]\n",
      " [4 5 6]\n",
      " [4 5 6]\n",
      " [4 5 6]]\n",
      "[[1 1 1 2 2 2 3 3 3]\n",
      " [4 4 4 5 5 5 6 6 6]]\n"
     ]
    }
   ],
   "source": [
    "#Repeate the array by 3 times\n",
    "a = np.array([1, 2, 3])\n",
    "b = np.repeat(a, 3)\n",
    "print(b)\n",
    "\n",
    "c = np.array([[1, 2, 3], [4, 5, 6]])\n",
    "d = np.repeat(c, 3)\n",
    "print(d)\n",
    "\n",
    "#axis = 1 is will thorugh error. \n",
    "b = np.repeat(a, 3, axis=0)\n",
    "print(b)\n",
    "\n",
    "d = np.repeat(c, 3, axis=0)\n",
    "print(d)\n",
    "\n",
    "d = np.repeat(c, 3, axis=1)\n",
    "print(d)"
   ]
  },
  {
   "cell_type": "code",
   "execution_count": 156,
   "metadata": {},
   "outputs": [
    {
     "name": "stdout",
     "output_type": "stream",
     "text": [
      "[[1. 1. 1. 1. 1.]\n",
      " [1. 1. 1. 1. 1.]\n",
      " [1. 1. 1. 1. 1.]\n",
      " [1. 1. 1. 1. 1.]\n",
      " [1. 1. 1. 1. 1.]]\n",
      "[[0. 0. 0.]\n",
      " [0. 0. 0.]\n",
      " [0. 0. 0.]]\n",
      "[[0. 0. 0.]\n",
      " [0. 9. 0.]\n",
      " [0. 0. 0.]]\n",
      "[[1. 1. 1. 1. 1.]\n",
      " [1. 0. 0. 0. 1.]\n",
      " [1. 0. 9. 0. 1.]\n",
      " [1. 0. 0. 0. 1.]\n",
      " [1. 1. 1. 1. 1.]]\n"
     ]
    }
   ],
   "source": [
    "#Craete a array shape is 5*5 with outer most layer contins 1's and second outer most layer contins 0's and middle one ele contain 9\n",
    "\n",
    "output = np.ones((5, 5))\n",
    "print(output)\n",
    "\n",
    "#Now create tmp array with 3*3\n",
    "tmp = np.zeros((3, 3))\n",
    "print(tmp)\n",
    "\n",
    "tmp[1,1] = 9\n",
    "print(tmp)\n",
    "\n",
    "#Now replace inner layers of output array with tmp array\n",
    "output[1:-1, 1:-1] = tmp\n",
    "\n",
    "print(output)"
   ]
  },
  {
   "cell_type": "markdown",
   "metadata": {},
   "source": [
    "###### Be carefull of while copying array"
   ]
  },
  {
   "cell_type": "code",
   "execution_count": 160,
   "metadata": {},
   "outputs": [
    {
     "name": "stdout",
     "output_type": "stream",
     "text": [
      "[1111    2    3    4]\n",
      "[1111    2    3    4]\n",
      "[1 2 3]\n",
      "[1 2 3]\n",
      "[-999    2    3]\n"
     ]
    }
   ],
   "source": [
    "a = np.array([1, 2, 3, 4])\n",
    "# b array is also pointing to array a, Basically both are same memory location.\n",
    "b = a\n",
    "b[0] = 1111\n",
    "print(a)\n",
    "print(b)\n",
    "\n",
    "c = np.array([1, 2, 3])\n",
    "print(c)\n",
    "#This create new copy of array in different memory location for d array\n",
    "d = c.copy()\n",
    "d[0] = -999\n",
    "print(c)\n",
    "print(d)\n"
   ]
  },
  {
   "cell_type": "markdown",
   "metadata": {},
   "source": [
    "###### Mathematics"
   ]
  },
  {
   "cell_type": "code",
   "execution_count": 169,
   "metadata": {},
   "outputs": [
    {
     "name": "stdout",
     "output_type": "stream",
     "text": [
      "[1 2 3 4]\n",
      "[3 4 5 6]\n",
      "[0 1 2 3]\n",
      "[2 4 6 8]\n",
      "[0.5 1.  1.5 2. ]\n",
      "4\n",
      "[0.5 1.  1.5 2. ]\n",
      "8\n"
     ]
    }
   ],
   "source": [
    "a = np.array([1, 2, 3, 4])\n",
    "print(a)\n",
    "\n",
    "print(a + 2)\n",
    "print(a-1)\n",
    "print(a*2)\n",
    "print(a/2)\n",
    "print(a.itemsize)\n",
    "a = a/2\n",
    "print(a)\n",
    "print(a.itemsize)"
   ]
  },
  {
   "cell_type": "code",
   "execution_count": 173,
   "metadata": {},
   "outputs": [
    {
     "name": "stdout",
     "output_type": "stream",
     "text": [
      "[1 2 3]\n",
      "[3 4 5]\n",
      "[1 2 3]\n"
     ]
    }
   ],
   "source": [
    "a = np.array([1,2,3])\n",
    "print(a)\n",
    "\n",
    "a +=2\n",
    "print(a)\n",
    "a -=2\n",
    "print(a)"
   ]
  },
  {
   "cell_type": "code",
   "execution_count": 181,
   "metadata": {},
   "outputs": [
    {
     "name": "stdout",
     "output_type": "stream",
     "text": [
      "[11 22 33]\n",
      "[ -9 -18 -27]\n",
      "[10 40 90]\n",
      "[0.1 0.1 0.1]\n",
      "-----\n"
     ]
    }
   ],
   "source": [
    "#Add two array\n",
    "\n",
    "a = np.array([1, 2, 3])\n",
    "b = np.array([10, 20, 30])\n",
    "print(a+b)\n",
    "print(a-b)\n",
    "print(a*b)\n",
    "print(a/b)\n",
    "\n",
    "print('-----')\n",
    "c = np.array([11, 22])\n",
    "\n",
    "#Both array should have same shape. Hence below addtion will give error.\n",
    "#print(a+c)\n"
   ]
  },
  {
   "cell_type": "code",
   "execution_count": 183,
   "metadata": {},
   "outputs": [
    {
     "name": "stdout",
     "output_type": "stream",
     "text": [
      "[1 4 9]\n"
     ]
    }
   ],
   "source": [
    "#Power to 2\n",
    "\n",
    "a = np.array([1, 2, 3])\n",
    "a **= 2\n",
    "print(a)\n"
   ]
  },
  {
   "cell_type": "code",
   "execution_count": 185,
   "metadata": {},
   "outputs": [
    {
     "name": "stdout",
     "output_type": "stream",
     "text": [
      "[0.84147098 0.90929743 0.14112001]\n",
      "[ 0.54030231 -0.41614684 -0.9899925 ]\n"
     ]
    }
   ],
   "source": [
    "#Take sin and cos (trigonometry funtions) of all the array elemnents\n",
    "a = np.array([1, 2, 3])\n",
    "print(np.sin(a))\n",
    "\n",
    "print(np.cos(a))"
   ]
  },
  {
   "cell_type": "markdown",
   "metadata": {},
   "source": [
    "###### Linear algebra"
   ]
  },
  {
   "cell_type": "code",
   "execution_count": 191,
   "metadata": {},
   "outputs": [
    {
     "name": "stdout",
     "output_type": "stream",
     "text": [
      "[[1. 1. 1.]\n",
      " [1. 1. 1.]]\n",
      "[[2 2]\n",
      " [2 2]\n",
      " [2 2]]\n"
     ]
    },
    {
     "data": {
      "text/plain": [
       "array([[6., 6.],\n",
       "       [6., 6.]])"
      ]
     },
     "execution_count": 191,
     "metadata": {},
     "output_type": "execute_result"
    }
   ],
   "source": [
    "a = np.ones((2,3))\n",
    "b = np.full((3, 2), 2)\n",
    "print(a)\n",
    "print(b)\n",
    "\n",
    "np.matmul(a, b)"
   ]
  },
  {
   "cell_type": "code",
   "execution_count": 200,
   "metadata": {},
   "outputs": [
    {
     "name": "stdout",
     "output_type": "stream",
     "text": [
      "1.0\n",
      "[[3 4 5]\n",
      " [3 4 6]\n",
      " [3 6 6]]\n",
      "-6.0\n"
     ]
    }
   ],
   "source": [
    "#Find the determind\n",
    "c = np.identity(3)\n",
    "d = np.random.randint(3, 7, size=(3,3))\n",
    "print(np.linalg.det(c))\n",
    "print(d)\n",
    "print(np.linalg.det(d))"
   ]
  },
  {
   "cell_type": "markdown",
   "metadata": {},
   "source": [
    "###### Statstics\n"
   ]
  },
  {
   "cell_type": "code",
   "execution_count": 212,
   "metadata": {},
   "outputs": [
    {
     "name": "stdout",
     "output_type": "stream",
     "text": [
      "1\n",
      "6\n",
      "[[1 2 3]\n",
      " [4 5 6]]\n",
      "--------\n",
      "[3 6]\n",
      "[1 4]\n",
      "-------\n",
      "[4 5 6]\n",
      "[1 2 3]\n"
     ]
    }
   ],
   "source": [
    "#Note:\n",
    "# axis = 0 ==> cloumswise\n",
    "# axis = 1  ==> rowwise\n",
    "\n",
    "a = np.array([[1, 2, 3], [4, 5, 6]])\n",
    "#Min in matrix\n",
    "print(np.min(a))\n",
    "\n",
    "#Max in matrix\n",
    "print(np.max(a))\n",
    "print(a)\n",
    "\n",
    "print('--------')\n",
    "#Max in each row\n",
    "print(np.max(a, axis=1))\n",
    "\n",
    "#Min in each row\n",
    "print(np.min(a, axis=1))\n",
    "print('-------')\n",
    "\n",
    "#Max in each colum\n",
    "print(np.max(a, axis=0))\n",
    "print(np.min(a, axis=0))"
   ]
  },
  {
   "cell_type": "markdown",
   "metadata": {},
   "source": [
    "###### Reorginzing array"
   ]
  },
  {
   "cell_type": "code",
   "execution_count": 219,
   "metadata": {},
   "outputs": [
    {
     "name": "stdout",
     "output_type": "stream",
     "text": [
      "(2, 6)\n",
      "[[ 1  2  3  4  5  6]\n",
      " [ 7  8  9 11 12 13]]\n",
      "[[[ 1  2]\n",
      "  [ 3  4]\n",
      "  [ 5  6]]\n",
      "\n",
      " [[ 7  8]\n",
      "  [ 9 11]\n",
      "  [12 13]]]\n"
     ]
    }
   ],
   "source": [
    "a = np.array([[1,2, 3, 4, 5, 6], [7, 8, 9, 11, 12, 13]])\n",
    "print(a.shape)\n",
    "print(a)\n",
    "\n",
    "b = a.reshape(2,3, 2)\n",
    "print(b)"
   ]
  },
  {
   "cell_type": "code",
   "execution_count": 244,
   "metadata": {},
   "outputs": [
    {
     "name": "stdout",
     "output_type": "stream",
     "text": [
      "[[1 2 3 4]\n",
      " [5 6 7 8]]\n",
      "[[5 6 7 8]\n",
      " [1 2 3 4]\n",
      " [1 2 3 4]\n",
      " [5 6 7 8]\n",
      " [5 6 7 8]]\n",
      "======\n",
      "[[11 12 13 14]\n",
      " [ 1  2  3  4]\n",
      " [ 5  6  7  8]]\n"
     ]
    }
   ],
   "source": [
    "#Vertically stacking array\n",
    "#No. of colums should be same\n",
    "v1 = np.array([1, 2, 3, 4])\n",
    "v2 = np.array([5, 6, 7, 8])\n",
    "print(np.vstack([v1,v2]))\n",
    "\n",
    "print(np.vstack([v2, v1, v1, v2, v2]))\n",
    "\n",
    "print('======')\n",
    "v3 = np.array([[1, 2, 3, 4], [5, 6, 7, 8]])\n",
    "v4 = np.array([11,12, 13, 14])\n",
    "print(np.vstack([v4,v3]))\n",
    "\n",
    "\n"
   ]
  },
  {
   "cell_type": "code",
   "execution_count": 245,
   "metadata": {},
   "outputs": [
    {
     "name": "stdout",
     "output_type": "stream",
     "text": [
      "[1 2 3 4 5 6 7 8]\n",
      "[ 1  2  3 11 12 13 14]\n"
     ]
    }
   ],
   "source": [
    "#Horizntal stacking\n",
    "#No of rows should be same\n",
    "h1 = np.array([1, 2, 3, 4])\n",
    "h2 = np.array([5, 6, 7, 8])\n",
    "\n",
    "print(np.hstack([h1, h2]))\n",
    "\n",
    "h3 = np.array([1, 2, 3])\n",
    "h4 = np.array([11, 12, 13, 14])\n",
    "\n",
    "print(np.hstack([h3, h4]))"
   ]
  },
  {
   "cell_type": "markdown",
   "metadata": {},
   "source": [
    "### Load a data from File"
   ]
  },
  {
   "cell_type": "code",
   "execution_count": 257,
   "metadata": {},
   "outputs": [
    {
     "name": "stdout",
     "output_type": "stream",
     "text": [
      "[[  1.  13.  21.  11. 196.  75.   4.   3.  34.   6.   7.   8.   0.   1.\n",
      "    2.   3.   4.   5.]\n",
      " [  3.  42.  12.  33. 766.  75.   4.  55.   6.   4.   3.   4.   5.   6.\n",
      "    7.   0.  11.  12.]\n",
      " [  1.  22.  33.  11. 999.  11.   2.   1.  78.   0.   1.   2.   9.   8.\n",
      "    7.   1.  76.  88.]]\n",
      "[[  1  13  21  11 196  75   4   3  34   6   7   8   0   1   2   3   4   5]\n",
      " [  3  42  12  33 766  75   4  55   6   4   3   4   5   6   7   0  11  12]\n",
      " [  1  22  33  11 999  11   2   1  78   0   1   2   9   8   7   1  76  88]]\n"
     ]
    }
   ],
   "source": [
    "#Load the file\n",
    "filedata = np.genfromtxt('num.txt', delimiter=',')\n",
    "print(filedata)\n",
    "output = filedata.astype('int32')\n",
    "print(output)\n"
   ]
  },
  {
   "cell_type": "markdown",
   "metadata": {},
   "source": [
    "###### Boolean masking and Advance indexing"
   ]
  },
  {
   "cell_type": "code",
   "execution_count": 262,
   "metadata": {},
   "outputs": [
    {
     "name": "stdout",
     "output_type": "stream",
     "text": [
      "[[  1  13  21  11 196  75   4   3  34   6   7   8   0   1   2   3   4   5]\n",
      " [  3  42  12  33 766  75   4  55   6   4   3   4   5   6   7   0  11  12]\n",
      " [  1  22  33  11 999  11   2   1  78   0   1   2   9   8   7   1  76  88]]\n",
      "[196  75 766  75  55 999  78  76  88]\n"
     ]
    }
   ],
   "source": [
    "print(output)\n",
    "#Gneratate new array with flase or true based on the condition \n",
    "output > 50\n",
    "\n",
    "#If we want speatae list which is having value > 50\n",
    "print(output[output > 50])\n"
   ]
  },
  {
   "cell_type": "code",
   "execution_count": 265,
   "metadata": {},
   "outputs": [
    {
     "name": "stdout",
     "output_type": "stream",
     "text": [
      "[1 2 3 4 5 6 7 8 9]\n",
      "[2 3 9]\n"
     ]
    }
   ],
   "source": [
    "#You can index with a list in Numpy\n",
    "a = np.array([1, 2, 3, 4, 5, 6, 7, 8, 9])\n",
    "print(a)\n",
    "#Now print values in index 1,2 and 8\n",
    "print(a[[1, 2, 8]])\n"
   ]
  },
  {
   "cell_type": "code",
   "execution_count": 276,
   "metadata": {},
   "outputs": [
    {
     "name": "stdout",
     "output_type": "stream",
     "text": [
      "[[  1  13  21  11 196  75   4   3  34   6   7   8   0   1   2   3   4   5]\n",
      " [  3  42  12  33 766  75   4  55   6   4   3   4   5   6   7   0  11  12]\n",
      " [  1  22  33  11 999  11   2   1  78   0   1   2   9   8   7   1  76  88]]\n",
      "[False False False False  True  True False  True  True False False False\n",
      " False False False False  True  True]\n",
      "[ True  True  True]\n",
      "--------------\n",
      "[[False False False False False  True False False False False False False\n",
      "  False False False False False False]\n",
      " [False False False False False  True False  True False False False False\n",
      "  False False False False False False]\n",
      " [False False False False False False False False  True False False False\n",
      "  False False False False  True  True]]\n",
      "[[ True  True  True  True False False  True  True  True  True  True  True\n",
      "   True  True  True  True  True  True]\n",
      " [ True  True  True  True False False  True False  True  True  True  True\n",
      "   True  True  True  True  True  True]\n",
      " [ True  True  True  True False  True  True  True False  True  True  True\n",
      "   True  True  True  True False False]]\n"
     ]
    }
   ],
   "source": [
    "print(output)\n",
    "#print out if any colums in below array contins value > 50\n",
    "\n",
    "print(np.any(output > 50, axis=0))\n",
    "\n",
    "#print out if any of the rows contias values > 50\n",
    "print(np.any(output > 50, axis =1))\n",
    "\n",
    "print('--------------')\n",
    "print((output> 50) & (output < 100))\n",
    "print(~(output > 50) & (output < 100))\n"
   ]
  },
  {
   "cell_type": "code",
   "execution_count": 296,
   "metadata": {},
   "outputs": [
    {
     "name": "stdout",
     "output_type": "stream",
     "text": [
      "[[ 11  22  33  44]\n",
      " [ 44  55  66  77]\n",
      " [111  88  99 199]\n",
      " [121 222 333 999]]\n",
      "[ 22  66 199]\n",
      "[[ 33  44]\n",
      " [ 99 199]\n",
      " [333 999]]\n"
     ]
    }
   ],
   "source": [
    "#How to print diganal or zig-szag elements\n",
    "e = np.array([ [11, 22, 33, 44], [44, 55, 66, 77] , [111, 88, 99, 199], [121, 222, 333, 999]] )\n",
    "print(e)\n",
    "\n",
    "# print 22,66,199\n",
    "print(e[[0, 1, 2], [1, 2, 3]])\n",
    "\n",
    "print(e[ [0, 2, 3], 2: ])\n",
    "\n"
   ]
  }
 ],
 "metadata": {
  "kernelspec": {
   "display_name": "Python 3",
   "language": "python",
   "name": "python3"
  },
  "language_info": {
   "codemirror_mode": {
    "name": "ipython",
    "version": 3
   },
   "file_extension": ".py",
   "mimetype": "text/x-python",
   "name": "python",
   "nbconvert_exporter": "python",
   "pygments_lexer": "ipython3",
   "version": "3.7.4"
  }
 },
 "nbformat": 4,
 "nbformat_minor": 2
}
