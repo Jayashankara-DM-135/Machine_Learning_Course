{
 "cells": [
  {
   "cell_type": "raw",
   "metadata": {},
   "source": [
    "1> Linear algebra : https://ocw.mit.edu/courses/mathematics/18-06-linear-algebra-spring-2010/video-lectures/\n",
    "2> Calculus \n",
    "3> Statitcs \n",
    "4> Probabality\n",
    "\n",
    "https://machinelearningmastery.com/basics-mathematical-notation-machine-learning/\n",
    "\n",
    "\n",
    "https://towardsdatascience.com/software-developers-youre-learning-machine-learning-upside-down-3867dc140862\n",
    "\n",
    "\n",
    "R squred value for Linear regression:\n",
    "https://statisticsbyjim.com/regression/interpret-r-squared-regression/\n",
    "\n",
    "Math beyond Logistic regression:\n",
    "https://www.youtube.com/watch?v=YMJtsYIp4kg\n",
    "\n",
    "odds and log(odds)\n",
    "https://www.youtube.com/watch?v=ARfXDSkQf1Y\n",
    "\n",
    "Clustreing:\n",
    "Kmeans:\n",
    "https://www.youtube.com/watch?v=1XqG0kaJVHY\n",
    "\n",
    "\n"
   ]
  },
  {
   "cell_type": "code",
   "execution_count": null,
   "metadata": {},
   "outputs": [],
   "source": []
  }
 ],
 "metadata": {
  "kernelspec": {
   "display_name": "Python 3",
   "language": "python",
   "name": "python3"
  },
  "language_info": {
   "codemirror_mode": {
    "name": "ipython",
    "version": 3
   },
   "file_extension": ".py",
   "mimetype": "text/x-python",
   "name": "python",
   "nbconvert_exporter": "python",
   "pygments_lexer": "ipython3",
   "version": "3.7.4"
  }
 },
 "nbformat": 4,
 "nbformat_minor": 2
}
